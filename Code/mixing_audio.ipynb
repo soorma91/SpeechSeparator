{
 "cells": [
  {
   "cell_type": "code",
   "execution_count": 1,
   "metadata": {
    "ExecuteTime": {
     "end_time": "2020-04-17T12:35:14.478085Z",
     "start_time": "2020-04-17T12:35:10.363340Z"
    }
   },
   "outputs": [],
   "source": [
    "import librosa"
   ]
  },
  {
   "cell_type": "code",
   "execution_count": 2,
   "metadata": {
    "ExecuteTime": {
     "end_time": "2020-04-17T12:36:10.890304Z",
     "start_time": "2020-04-17T12:36:09.721114Z"
    }
   },
   "outputs": [
    {
     "name": "stdout",
     "output_type": "stream",
     "text": [
      "load data1 finish\n",
      "data1, shape:  (56000,)  type:  float32\n",
      "load data2 finish\n",
      "mix shape:  (56000,)\n",
      "output finish\n"
     ]
    }
   ],
   "source": [
    "speech1 = 'misc/hannan.wav'\n",
    "speech2 = 'misc/soorma.wav'\n",
    "\n",
    "data1, _ = librosa.load(speech1, sr=8000)\n",
    "print('load data1 finish')\n",
    "print('data1, shape: ', data1.shape, ' type: ', data1.dtype)\n",
    "data2, _ = librosa.load(speech2, sr=8000)\n",
    "print('load data2 finish')\n",
    "mix = data1[:len(data2)] + data2[:len(data1)]\n",
    "print('mix shape: ', mix.shape)\n",
    "librosa.output.write_wav('mix.wav', mix, 8000)\n",
    "print('output finish')"
   ]
  },
  {
   "cell_type": "code",
   "execution_count": null,
   "metadata": {},
   "outputs": [],
   "source": []
  }
 ],
 "metadata": {
  "kernelspec": {
   "display_name": "Python 3",
   "language": "python",
   "name": "python3"
  },
  "language_info": {
   "codemirror_mode": {
    "name": "ipython",
    "version": 3
   },
   "file_extension": ".py",
   "mimetype": "text/x-python",
   "name": "python",
   "nbconvert_exporter": "python",
   "pygments_lexer": "ipython3",
   "version": "3.7.3"
  },
  "toc": {
   "base_numbering": 1,
   "nav_menu": {},
   "number_sections": true,
   "sideBar": true,
   "skip_h1_title": false,
   "title_cell": "Table of Contents",
   "title_sidebar": "Contents",
   "toc_cell": false,
   "toc_position": {},
   "toc_section_display": true,
   "toc_window_display": false
  }
 },
 "nbformat": 4,
 "nbformat_minor": 2
}
